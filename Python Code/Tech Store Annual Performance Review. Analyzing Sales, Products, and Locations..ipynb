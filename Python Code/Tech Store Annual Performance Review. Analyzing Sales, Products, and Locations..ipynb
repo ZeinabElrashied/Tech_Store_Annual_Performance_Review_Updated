{
 "cells": [
  {
   "cell_type": "markdown",
   "id": "043b9209",
   "metadata": {},
   "source": [
    "# Tech Store Annual Performance Review: Analyzing Sales, Products, and Locations.\n",
    "\n",
    "## Introduction:\n",
    "Welcome to the \"Tech Store Annual Performance Review\" project, a comprehensive analysis aimed at unraveling the details of the tech store's year-long performance. In this exploration, we delve into the realms of sales dynamics, product performance, and geographical distribution to extract valuable insights.\n",
    "\n",
    "## Project Objectives:\n",
    "\n",
    "1. **Calculate Revenue and Total Units Sold:**\n",
    "  - Establish a foundational understanding by computing the total revenue generated and the overall quantity of units sold. These metrics serve as fundamental indicators for the store's financial performance.\n",
    "\n",
    "2. **Evaluate Overall Sales Trends over the Year:**\n",
    "  - Conduct a thorough examination of sales trends throughout the year, uncovering patterns, fluctuations, and noteworthy peaks. This analysis aims to provide a holistic understanding of the store's sales trajectory.\n",
    "\n",
    "3. **Identify Products with Highest and Lowest Sales:**\n",
    "  - Pinpoint high-performing and underperforming products by assessing their respective sales figures. This evaluation aids in recognizing market trends, optimizing product offerings, and refining marketing strategies.\n",
    "\n",
    "4. **Identify Peak Order Times:**\n",
    "  - Explore the temporal dimension of our sales data to identify peak order times. Understanding the timing of high order volumes is crucial for resource allocation, staffing optimization, and targeted marketing efforts.\n",
    "\n",
    "5. **Examine Sales Distribution Across Different Cities:**\n",
    "  - Analyze the geographical spread of our sales across various cities. This examination provides insights into regional preferences, market dynamics, and opportunities for targeted growth.\n",
    "\n",
    "## Analyst Information:\n",
    "\n",
    "**Project Analyst:** Zeinab Elrashied Hassan Mohammed\n",
    "\n",
    "**LinkedIn Profile:** www.linkedin.com/in/zeinabelrashied\n",
    "\n",
    "**Email:** [zeinabalrashiedhassan@gmail.com]\n",
    "\n",
    "Feel free to connect for further discussions or collaborations.\n"
   ]
  },
  {
   "cell_type": "markdown",
   "id": "88b5809e",
   "metadata": {},
   "source": [
    "_____________________________________________________________________________"
   ]
  },
  {
   "cell_type": "markdown",
   "id": "4cdb83fa",
   "metadata": {},
   "source": [
    "**IMPORTING LIBRARIES**"
   ]
  },
  {
   "cell_type": "code",
   "execution_count": 1,
   "id": "6f7420db",
   "metadata": {},
   "outputs": [],
   "source": [
    "import pandas as pd\n",
    "import numpy as np\n",
    "import matplotlib.pyplot as plt\n",
    "%matplotlib inline\n",
    "import seaborn as sns"
   ]
  },
  {
   "cell_type": "markdown",
   "id": "30c3cbf2",
   "metadata": {},
   "source": [
    "**LOAD THE DATAST**"
   ]
  },
  {
   "cell_type": "code",
   "execution_count": 2,
   "id": "a543976b",
   "metadata": {},
   "outputs": [],
   "source": [
    "data = pd.read_csv(\"tech store dataset.csv\")"
   ]
  },
  {
   "cell_type": "markdown",
   "id": "514ffddc",
   "metadata": {},
   "source": [
    "### DATA CLEANING:"
   ]
  },
  {
   "cell_type": "code",
   "execution_count": 3,
   "id": "cddfb2db",
   "metadata": {},
   "outputs": [
    {
     "data": {
      "text/html": [
       "<div>\n",
       "<style scoped>\n",
       "    .dataframe tbody tr th:only-of-type {\n",
       "        vertical-align: middle;\n",
       "    }\n",
       "\n",
       "    .dataframe tbody tr th {\n",
       "        vertical-align: top;\n",
       "    }\n",
       "\n",
       "    .dataframe thead th {\n",
       "        text-align: right;\n",
       "    }\n",
       "</style>\n",
       "<table border=\"1\" class=\"dataframe\">\n",
       "  <thead>\n",
       "    <tr style=\"text-align: right;\">\n",
       "      <th></th>\n",
       "      <th>Order ID</th>\n",
       "      <th>Product</th>\n",
       "      <th>Quantity Ordered</th>\n",
       "      <th>Price Each</th>\n",
       "      <th>Order Date</th>\n",
       "      <th>Purchase Address</th>\n",
       "    </tr>\n",
       "  </thead>\n",
       "  <tbody>\n",
       "    <tr>\n",
       "      <th>0</th>\n",
       "      <td>176558</td>\n",
       "      <td>USB-C Charging Cable</td>\n",
       "      <td>2</td>\n",
       "      <td>11.95</td>\n",
       "      <td>4/19/2019 8:46</td>\n",
       "      <td>917 1st St, Dallas, TX 75001</td>\n",
       "    </tr>\n",
       "    <tr>\n",
       "      <th>1</th>\n",
       "      <td>NaN</td>\n",
       "      <td>NaN</td>\n",
       "      <td>NaN</td>\n",
       "      <td>NaN</td>\n",
       "      <td>NaN</td>\n",
       "      <td>NaN</td>\n",
       "    </tr>\n",
       "    <tr>\n",
       "      <th>2</th>\n",
       "      <td>176559</td>\n",
       "      <td>Bose SoundSport Headphones</td>\n",
       "      <td>1</td>\n",
       "      <td>99.99</td>\n",
       "      <td>4/7/2019 22:30</td>\n",
       "      <td>682 Chestnut St, Boston, MA 02215</td>\n",
       "    </tr>\n",
       "    <tr>\n",
       "      <th>3</th>\n",
       "      <td>176560</td>\n",
       "      <td>Google Phone</td>\n",
       "      <td>1</td>\n",
       "      <td>600</td>\n",
       "      <td>4/12/2019 14:38</td>\n",
       "      <td>669 Spruce St, Los Angeles, CA 90001</td>\n",
       "    </tr>\n",
       "    <tr>\n",
       "      <th>4</th>\n",
       "      <td>176560</td>\n",
       "      <td>Wired Headphones</td>\n",
       "      <td>1</td>\n",
       "      <td>11.99</td>\n",
       "      <td>4/12/2019 14:38</td>\n",
       "      <td>669 Spruce St, Los Angeles, CA 90001</td>\n",
       "    </tr>\n",
       "  </tbody>\n",
       "</table>\n",
       "</div>"
      ],
      "text/plain": [
       "  Order ID                     Product Quantity Ordered Price Each  \\\n",
       "0   176558        USB-C Charging Cable                2      11.95   \n",
       "1      NaN                         NaN              NaN        NaN   \n",
       "2   176559  Bose SoundSport Headphones                1      99.99   \n",
       "3   176560                Google Phone                1        600   \n",
       "4   176560            Wired Headphones                1      11.99   \n",
       "\n",
       "        Order Date                      Purchase Address  \n",
       "0   4/19/2019 8:46          917 1st St, Dallas, TX 75001  \n",
       "1              NaN                                   NaN  \n",
       "2   4/7/2019 22:30     682 Chestnut St, Boston, MA 02215  \n",
       "3  4/12/2019 14:38  669 Spruce St, Los Angeles, CA 90001  \n",
       "4  4/12/2019 14:38  669 Spruce St, Los Angeles, CA 90001  "
      ]
     },
     "execution_count": 3,
     "metadata": {},
     "output_type": "execute_result"
    }
   ],
   "source": [
    "# Disply the first 5 rows\n",
    "data.head()"
   ]
  },
  {
   "cell_type": "code",
   "execution_count": 4,
   "id": "3b9021e0",
   "metadata": {},
   "outputs": [
    {
     "data": {
      "text/plain": [
       "(186850, 6)"
      ]
     },
     "execution_count": 4,
     "metadata": {},
     "output_type": "execute_result"
    }
   ],
   "source": [
    "# The shape of the dataset\n",
    "data.shape"
   ]
  },
  {
   "cell_type": "code",
   "execution_count": 5,
   "id": "b1997553",
   "metadata": {},
   "outputs": [
    {
     "data": {
      "text/plain": [
       "Order ID            545\n",
       "Product             545\n",
       "Quantity Ordered    545\n",
       "Price Each          545\n",
       "Order Date          545\n",
       "Purchase Address    545\n",
       "dtype: int64"
      ]
     },
     "execution_count": 5,
     "metadata": {},
     "output_type": "execute_result"
    }
   ],
   "source": [
    "# Checking null values\n",
    "data.isna().sum()"
   ]
  },
  {
   "cell_type": "code",
   "execution_count": 6,
   "id": "eda25e68",
   "metadata": {},
   "outputs": [],
   "source": [
    "# Drop null values\n",
    "data.dropna(inplace=True)"
   ]
  },
  {
   "cell_type": "code",
   "execution_count": 7,
   "id": "755303d5",
   "metadata": {},
   "outputs": [
    {
     "data": {
      "text/plain": [
       "618"
      ]
     },
     "execution_count": 7,
     "metadata": {},
     "output_type": "execute_result"
    }
   ],
   "source": [
    "# Checking duplicate values\n",
    "data.duplicated().sum()"
   ]
  },
  {
   "cell_type": "code",
   "execution_count": 8,
   "id": "19985dda",
   "metadata": {},
   "outputs": [],
   "source": [
    "# Drop duplicate values\n",
    "data.drop_duplicates(inplace = True)"
   ]
  },
  {
   "cell_type": "code",
   "execution_count": 9,
   "id": "776d3887",
   "metadata": {},
   "outputs": [
    {
     "name": "stdout",
     "output_type": "stream",
     "text": [
      "<class 'pandas.core.frame.DataFrame'>\n",
      "Int64Index: 185687 entries, 0 to 186849\n",
      "Data columns (total 6 columns):\n",
      " #   Column            Non-Null Count   Dtype \n",
      "---  ------            --------------   ----- \n",
      " 0   Order ID          185687 non-null  object\n",
      " 1   Product           185687 non-null  object\n",
      " 2   Quantity Ordered  185687 non-null  object\n",
      " 3   Price Each        185687 non-null  object\n",
      " 4   Order Date        185687 non-null  object\n",
      " 5   Purchase Address  185687 non-null  object\n",
      "dtypes: object(6)\n",
      "memory usage: 9.9+ MB\n"
     ]
    }
   ],
   "source": [
    "# A concise summary of the dataset\n",
    "data.info()"
   ]
  },
  {
   "cell_type": "code",
   "execution_count": 10,
   "id": "7c61bc29",
   "metadata": {},
   "outputs": [
    {
     "data": {
      "text/plain": [
       "array(['2', '1', '3', '5', 'Quantity Ordered', '4', '7', '6', '8', '9'],\n",
       "      dtype=object)"
      ]
     },
     "execution_count": 10,
     "metadata": {},
     "output_type": "execute_result"
    }
   ],
   "source": [
    "# Fix Quantity Ordered column data type\n",
    "data[\"Quantity Ordered\"].unique()"
   ]
  },
  {
   "cell_type": "code",
   "execution_count": 11,
   "id": "9ee51805",
   "metadata": {},
   "outputs": [
    {
     "data": {
      "text/html": [
       "<div>\n",
       "<style scoped>\n",
       "    .dataframe tbody tr th:only-of-type {\n",
       "        vertical-align: middle;\n",
       "    }\n",
       "\n",
       "    .dataframe tbody tr th {\n",
       "        vertical-align: top;\n",
       "    }\n",
       "\n",
       "    .dataframe thead th {\n",
       "        text-align: right;\n",
       "    }\n",
       "</style>\n",
       "<table border=\"1\" class=\"dataframe\">\n",
       "  <thead>\n",
       "    <tr style=\"text-align: right;\">\n",
       "      <th></th>\n",
       "      <th>Order ID</th>\n",
       "      <th>Product</th>\n",
       "      <th>Quantity Ordered</th>\n",
       "      <th>Price Each</th>\n",
       "      <th>Order Date</th>\n",
       "      <th>Purchase Address</th>\n",
       "    </tr>\n",
       "  </thead>\n",
       "  <tbody>\n",
       "    <tr>\n",
       "      <th>519</th>\n",
       "      <td>Order ID</td>\n",
       "      <td>Product</td>\n",
       "      <td>Quantity Ordered</td>\n",
       "      <td>Price Each</td>\n",
       "      <td>Order Date</td>\n",
       "      <td>Purchase Address</td>\n",
       "    </tr>\n",
       "  </tbody>\n",
       "</table>\n",
       "</div>"
      ],
      "text/plain": [
       "     Order ID  Product  Quantity Ordered  Price Each  Order Date  \\\n",
       "519  Order ID  Product  Quantity Ordered  Price Each  Order Date   \n",
       "\n",
       "     Purchase Address  \n",
       "519  Purchase Address  "
      ]
     },
     "execution_count": 11,
     "metadata": {},
     "output_type": "execute_result"
    }
   ],
   "source": [
    "# Get rid of the text in \"Quantity Ordered\" column\n",
    "data[data[\"Quantity Ordered\"] == \"Quantity Ordered\"]"
   ]
  },
  {
   "cell_type": "code",
   "execution_count": 12,
   "id": "17ee72b3",
   "metadata": {},
   "outputs": [],
   "source": [
    "data.drop(519, axis=0, inplace=True)"
   ]
  },
  {
   "cell_type": "code",
   "execution_count": 13,
   "id": "a2f31e7b",
   "metadata": {},
   "outputs": [
    {
     "data": {
      "text/plain": [
       "array(['2', '1', '3', '5', '4', '7', '6', '8', '9'], dtype=object)"
      ]
     },
     "execution_count": 13,
     "metadata": {},
     "output_type": "execute_result"
    }
   ],
   "source": [
    "# checking \n",
    "data[\"Quantity Ordered\"].unique()"
   ]
  },
  {
   "cell_type": "code",
   "execution_count": 14,
   "id": "8b641c86",
   "metadata": {},
   "outputs": [],
   "source": [
    "# Fix Quantity Ordered data type\n",
    "data[\"Quantity Ordered\"] = data[\"Quantity Ordered\"].apply(pd.to_numeric)"
   ]
  },
  {
   "cell_type": "code",
   "execution_count": 15,
   "id": "226b0324",
   "metadata": {},
   "outputs": [],
   "source": [
    "# Fix Price Each data type\n",
    "data[\"Price Each\"] = data[\"Price Each\"].apply(pd.to_numeric)"
   ]
  },
  {
   "cell_type": "code",
   "execution_count": 16,
   "id": "c669f296",
   "metadata": {},
   "outputs": [],
   "source": [
    "# Convert \"Order Date\" to datetime format\n",
    "data[\"Order Date\"] = data[\"Order Date\"].apply(pd.to_datetime)"
   ]
  },
  {
   "cell_type": "code",
   "execution_count": 17,
   "id": "e7148f51",
   "metadata": {},
   "outputs": [
    {
     "data": {
      "text/plain": [
       "Order ID                    object\n",
       "Product                     object\n",
       "Quantity Ordered             int64\n",
       "Price Each                 float64\n",
       "Order Date          datetime64[ns]\n",
       "Purchase Address            object\n",
       "dtype: object"
      ]
     },
     "execution_count": 17,
     "metadata": {},
     "output_type": "execute_result"
    }
   ],
   "source": [
    "data.dtypes"
   ]
  },
  {
   "cell_type": "code",
   "execution_count": 18,
   "id": "95933fda",
   "metadata": {
    "scrolled": false
   },
   "outputs": [
    {
     "data": {
      "text/html": [
       "<div>\n",
       "<style scoped>\n",
       "    .dataframe tbody tr th:only-of-type {\n",
       "        vertical-align: middle;\n",
       "    }\n",
       "\n",
       "    .dataframe tbody tr th {\n",
       "        vertical-align: top;\n",
       "    }\n",
       "\n",
       "    .dataframe thead th {\n",
       "        text-align: right;\n",
       "    }\n",
       "</style>\n",
       "<table border=\"1\" class=\"dataframe\">\n",
       "  <thead>\n",
       "    <tr style=\"text-align: right;\">\n",
       "      <th></th>\n",
       "      <th>Quantity Ordered</th>\n",
       "      <th>Price Each</th>\n",
       "    </tr>\n",
       "  </thead>\n",
       "  <tbody>\n",
       "    <tr>\n",
       "      <th>count</th>\n",
       "      <td>185686.000000</td>\n",
       "      <td>185686.000000</td>\n",
       "    </tr>\n",
       "    <tr>\n",
       "      <th>mean</th>\n",
       "      <td>1.124544</td>\n",
       "      <td>184.519255</td>\n",
       "    </tr>\n",
       "    <tr>\n",
       "      <th>std</th>\n",
       "      <td>0.443069</td>\n",
       "      <td>332.843838</td>\n",
       "    </tr>\n",
       "    <tr>\n",
       "      <th>min</th>\n",
       "      <td>1.000000</td>\n",
       "      <td>2.990000</td>\n",
       "    </tr>\n",
       "    <tr>\n",
       "      <th>25%</th>\n",
       "      <td>1.000000</td>\n",
       "      <td>11.950000</td>\n",
       "    </tr>\n",
       "    <tr>\n",
       "      <th>50%</th>\n",
       "      <td>1.000000</td>\n",
       "      <td>14.950000</td>\n",
       "    </tr>\n",
       "    <tr>\n",
       "      <th>75%</th>\n",
       "      <td>1.000000</td>\n",
       "      <td>150.000000</td>\n",
       "    </tr>\n",
       "    <tr>\n",
       "      <th>max</th>\n",
       "      <td>9.000000</td>\n",
       "      <td>1700.000000</td>\n",
       "    </tr>\n",
       "  </tbody>\n",
       "</table>\n",
       "</div>"
      ],
      "text/plain": [
       "       Quantity Ordered     Price Each\n",
       "count     185686.000000  185686.000000\n",
       "mean           1.124544     184.519255\n",
       "std            0.443069     332.843838\n",
       "min            1.000000       2.990000\n",
       "25%            1.000000      11.950000\n",
       "50%            1.000000      14.950000\n",
       "75%            1.000000     150.000000\n",
       "max            9.000000    1700.000000"
      ]
     },
     "execution_count": 18,
     "metadata": {},
     "output_type": "execute_result"
    }
   ],
   "source": [
    "data.describe()"
   ]
  },
  {
   "cell_type": "markdown",
   "id": "73f04d66",
   "metadata": {},
   "source": [
    "-----------------------------"
   ]
  },
  {
   "cell_type": "markdown",
   "id": "abe272fd",
   "metadata": {},
   "source": [
    "<h4>1. Calculate Revenue and Total Units Sold"
   ]
  },
  {
   "cell_type": "code",
   "execution_count": 19,
   "id": "03e23960",
   "metadata": {},
   "outputs": [],
   "source": [
    "# Create a new column for sales\n",
    "data[\"sales\"] = data[\"Quantity Ordered\"] * data[\"Price Each\"]"
   ]
  },
  {
   "cell_type": "code",
   "execution_count": 20,
   "id": "325f6f7a",
   "metadata": {},
   "outputs": [
    {
     "name": "stdout",
     "output_type": "stream",
     "text": [
      "Revenue = 34465537.94\n",
      "Total Units Sold = 208812 units\n"
     ]
    }
   ],
   "source": [
    "# Caluclate total sales\n",
    "total_sales = data[\"sales\"].sum()\n",
    "\n",
    "# Caluclate total quantity ordered\n",
    "total_quantity_ordered = data[\"Quantity Ordered\"].sum()\n",
    "\n",
    "print(\"Revenue =\", total_sales)\n",
    "print(\"Total Units Sold =\", total_quantity_ordered, \"units\")"
   ]
  },
  {
   "cell_type": "markdown",
   "id": "205f896b",
   "metadata": {},
   "source": [
    "<h4>2. Evaluate overall sales trends over the year"
   ]
  },
  {
   "cell_type": "code",
   "execution_count": 21,
   "id": "e2779b38",
   "metadata": {},
   "outputs": [],
   "source": [
    "# Creating month column from Order Date column\n",
    "data[\"month\"] = data[\"Order Date\"].apply(lambda x: x.strftime(\"%m\"))\n",
    "\n",
    "# Convert 'month' to categorical for correct ordering\n",
    "data['month'] = pd.Categorical(data['month'], categories=['01', '02', '03', '04', '05', '06', '07', '08', '09', '10', '11', '12'], ordered=True)"
   ]
  },
  {
   "cell_type": "code",
   "execution_count": 22,
   "id": "13728a0b",
   "metadata": {},
   "outputs": [],
   "source": [
    "# Group by month and sales\n",
    "sales_over_month = pd.DataFrame(data.groupby(\"month\").sum()[\"sales\"]).reset_index()\n",
    "\n",
    "# Set the display format for float numbers\n",
    "pd.options.display.float_format = \"{:,.2f}\".format"
   ]
  },
  {
   "cell_type": "code",
   "execution_count": 23,
   "id": "238b2097",
   "metadata": {},
   "outputs": [
    {
     "data": {
      "image/png": "[encoded data removed]",
      "text/plain": [
       "<Figure size 936x504 with 1 Axes>"
      ]
     },
     "metadata": {
      "needs_background": "light"
     },
     "output_type": "display_data"
    }
   ],
   "source": [
    "# Plotting\n",
    "plt.figure(figsize=(13, 7))\n",
    "sns.lineplot(x='month', y='sales', data=sales_over_month, marker='o')\n",
    "plt.title('Monthly Sales Over the Year')\n",
    "plt.xlabel('Month')\n",
    "plt.ylabel('Sales ($)')\n",
    "plt.show()"
   ]
  },
  {
   "cell_type": "markdown",
   "id": "a2581303",
   "metadata": {},
   "source": [
    ">**Conclusion:**\n",
    ">- Throughout the year, the sales data exhibited distinctive patterns, featuring notable surges in February and April, with sales reaching \\\\$2,200,078.08 and \\\\$3,389,217.98, respectively. Despite variations in other months, these trends culminated in a significant peak of \\\\$4,608,295.70 in December."
   ]
  },
  {
   "cell_type": "markdown",
   "id": "20df7b66",
   "metadata": {},
   "source": [
    "<h4>3. Identify products with the highest and lowest sales."
   ]
  },
  {
   "cell_type": "code",
   "execution_count": 24,
   "id": "da181d36",
   "metadata": {
    "scrolled": false
   },
   "outputs": [],
   "source": [
    "# Group the data by \"Product\" and calculate the sum of sales\n",
    "high_low_prod_sales = pd.DataFrame(data.groupby(\"Product\").sum()[\"sales\"]).sort_values(\"sales\", ascending=False).reset_index()"
   ]
  },
  {
   "cell_type": "code",
   "execution_count": 69,
   "id": "5c673fbc",
   "metadata": {},
   "outputs": [
    {
     "data": {
      "image/png": "[encoded data removed]",
      "text/plain": [
       "<Figure size 1008x504 with 1 Axes>"
      ]
     },
     "metadata": {
      "needs_background": "light"
     },
     "output_type": "display_data"
    }
   ],
   "source": [
    "# Plotting\n",
    "plt.figure(figsize=(14,7))\n",
    "\n",
    "sns.barplot(x=\"Product\", y=\"sales\", data=high_low_prod_sales, color=\"#1775AB\")\n",
    "plt.xlabel(\"Product\")\n",
    "plt.ylabel(\"Revenue\")\n",
    "plt.title(\"Average Revenue by Product\")\n",
    "plt.xticks(rotation=\"vertical\", ha=\"right\")\n",
    "\n",
    "plt.show()"
   ]
  },
  {
   "cell_type": "markdown",
   "id": "9ceb7db7",
   "metadata": {},
   "source": [
    ">**Conclusion:**\n",
    ">- Upon a thorough analysis of product sales, several key insights have emerged, shedding light on both high-performing and underperforming products. The Macbook Pro Laptop stands out as the top performer, generating an impressive \\\\$8,032,500.00 in sales, followed closely by the iPhone at \\\\$4,792,900.00 and the ThinkPad Laptop at \\\\$4,127,958.72. These products have demonstrated significant market demand and contribute substantially to our overall revenue.\n",
    ">\n",
    ">- On the other end of the spectrum, the AAA Batteries (4-pack) and AA Batteries (4-pack) exhibit comparatively lower sales, with \\\\$92,648.14 and \\\\$106,041.60, respectively. While these products may represent niche or complementary offerings, their sales figures suggest potential areas for optimization or targeted marketing strategies."
   ]
  },
  {
   "cell_type": "markdown",
   "id": "8a589624",
   "metadata": {},
   "source": [
    "<h4>4. Identify peak order times"
   ]
  },
  {
   "cell_type": "code",
   "execution_count": 26,
   "id": "56f70a20",
   "metadata": {
    "scrolled": true
   },
   "outputs": [],
   "source": [
    "# Extract hour from 'Order Date'\n",
    "data[\"hour\"] = data[\"Order Date\"].dt.hour\n",
    "\n",
    "# Identify peak order times\n",
    "peak_order_times = pd.DataFrame(data.groupby(\"hour\")[\"Order Date\"].count())"
   ]
  },
  {
   "cell_type": "code",
   "execution_count": 27,
   "id": "38ad8a52",
   "metadata": {
    "scrolled": false
   },
   "outputs": [
    {
     "data": {
      "image/png": "[encoded data removed]",
      "text/plain": [
       "<Figure size 864x432 with 1 Axes>"
      ]
     },
     "metadata": {
      "needs_background": "light"
     },
     "output_type": "display_data"
    }
   ],
   "source": [
    "# Identify peak order times\n",
    "peak_order_times = pd.DataFrame(data.groupby(\"hour\").count()[\"Order Date\"].reset_index(name=\"Count\"))\n",
    "\n",
    "# Visualize peak order times\n",
    "plt.figure(figsize=(12, 6))\n",
    "sns.lineplot(x=\"hour\", y=\"Count\", data=peak_order_times, marker='o')\n",
    "plt.title(\"Peak Order Times\")\n",
    "plt.xlabel(\"Hour of the Day\")\n",
    "plt.ylabel(\"Number of Orders\")\n",
    "plt.show()"
   ]
  },
  {
   "cell_type": "markdown",
   "id": "fe1595e3",
   "metadata": {},
   "source": [
    ">**Conclusion:**\n",
    ">- The analysis of peak order times indicates distinct patterns in customer purchasing behavior. The data reveals a significant surge in orders during daytime, particularly from 9 AM to 3 PM, peaking at 12:00 PM with 12,573 orders. A secondary surge occurs in the evening, with the highest order count at 8:00 PM (12,263 orders). Understanding these peak times is crucial for resource allocation, staffing optimization, and targeted marketing efforts, providing insights to enhance operational efficiency and engage customers effectively."
   ]
  },
  {
   "cell_type": "markdown",
   "id": "46562056",
   "metadata": {},
   "source": [
    "<h4>5. Examine sales distribution across different cities."
   ]
  },
  {
   "cell_type": "code",
   "execution_count": 28,
   "id": "84888a8d",
   "metadata": {},
   "outputs": [],
   "source": [
    "# Getting city and state from Purshaced Address\n",
    "def get_city(address):\n",
    "    return address.split(\",\")[1].strip()\n",
    "\n",
    "def get_state(address):\n",
    "    return address.split(\",\")[2].split(\" \")[1]\n",
    "\n",
    "data['city'] = data['Purchase Address'].apply(lambda x: f\"{get_city(x)}  ({get_state(x)})\")"
   ]
  },
  {
   "cell_type": "code",
   "execution_count": 29,
   "id": "b9f0e5b6",
   "metadata": {
    "scrolled": true
   },
   "outputs": [],
   "source": [
    "# Group the data by \"city\" and calculate the sum of sales\n",
    "city_sales = pd.DataFrame(data.groupby(\"city\").sum()[\"sales\"]).reset_index()"
   ]
  },
  {
   "cell_type": "code",
   "execution_count": 71,
   "id": "38a96313",
   "metadata": {},
   "outputs": [
    {
     "data": {
      "image/png": "[encoded data removed]",
      "text/plain": [
       "<Figure size 936x504 with 1 Axes>"
      ]
     },
     "metadata": {
      "needs_background": "light"
     },
     "output_type": "display_data"
    }
   ],
   "source": [
    "#Plotting\n",
    "plt.figure(figsize=(13,7))\n",
    "\n",
    "sns.barplot(x = \"city\", y = \"sales\", data = city_sales, color=\"#1775AB\")\n",
    "plt.xlabel(\"Cities\")\n",
    "plt.ylabel(\"Sales\")\n",
    "plt.title(\"Sales over Cities\")\n",
    "plt.xticks(rotation=\"vertical\", ha=\"right\")\n",
    "plt.show()"
   ]
  },
  {
   "cell_type": "markdown",
   "id": "f4ebd241",
   "metadata": {},
   "source": [
    ">**Conclusion:**\n",
    ">- The analysis of sales distribution across cities highlights distinct market dynamics. San Francisco (CA) leads with the highest sales at \\\\$8,254,743.55, followed closely by Los Angeles (CA) and New York City (NY). While major metropolitan areas showcase substantial sales, smaller markets such as Portland (ME) and Portland (OR) present opportunities for targeted growth. Understanding these geographical trends guides strategic marketing efforts and resource allocation, optimizing our reach and impact across diverse regions."
   ]
  }
 ],
 "metadata": {
  "kernelspec": {
   "display_name": "Python 3 (ipykernel)",
   "language": "python",
   "name": "python3"
  },
  "language_info": {
   "codemirror_mode": {
    "name": "ipython",
    "version": 3
   },
   "file_extension": ".py",
   "mimetype": "text/x-python",
   "name": "python",
   "nbconvert_exporter": "python",
   "pygments_lexer": "ipython3",
   "version": "3.9.12"
  }
 },
 "nbformat": 4,
 "nbformat_minor": 5
}
